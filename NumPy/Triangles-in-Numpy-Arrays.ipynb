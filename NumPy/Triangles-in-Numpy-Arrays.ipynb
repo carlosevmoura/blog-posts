{
 "metadata": {
  "language_info": {
   "codemirror_mode": {
    "name": "ipython",
    "version": 3
   },
   "file_extension": ".py",
   "mimetype": "text/x-python",
   "name": "python",
   "nbconvert_exporter": "python",
   "pygments_lexer": "ipython3",
   "version": "3.9.1-final"
  },
  "orig_nbformat": 2,
  "kernelspec": {
   "name": "python3",
   "display_name": "Python 3.9.1 64-bit ('compchem': pyenv)",
   "metadata": {
    "interpreter": {
     "hash": "ce1a8975f1eb379dddca3dff14a78ef6ba6f3ec77109ba28db3f3e4fd2ec6a21"
    }
   }
  }
 },
 "nbformat": 4,
 "nbformat_minor": 2,
 "cells": [
  {
   "source": [
    "# Triangle in NumPy Arrays\n",
    "\n",
    "Auxiliary notebook to the my blog post at [carlosevmoura.org](https://carlosevmoura.org/2021/02/triangles-in-numpy-arrays/).\n",
    "\n",
    "## Importing NumPy Library"
   ],
   "cell_type": "markdown",
   "metadata": {}
  },
  {
   "cell_type": "code",
   "execution_count": 1,
   "metadata": {},
   "outputs": [],
   "source": [
    "import numpy as np"
   ]
  },
  {
   "cell_type": "code",
   "execution_count": 10,
   "metadata": {},
   "outputs": [
    {
     "output_type": "execute_result",
     "data": {
      "text/plain": [
       "array([[ 0,  1,  2,  3],\n",
       "       [ 4,  5,  6,  7],\n",
       "       [ 8,  9, 10, 11],\n",
       "       [12, 13, 14, 15]])"
      ]
     },
     "metadata": {},
     "execution_count": 10
    }
   ],
   "source": [
    "my_matrix = np.arange(16).reshape(4, 4)\n",
    "my_matrix"
   ]
  },
  {
   "source": [
    "## Obtaining the diagonal and diagonal size of this matrix"
   ],
   "cell_type": "markdown",
   "metadata": {}
  },
  {
   "cell_type": "code",
   "execution_count": 11,
   "metadata": {},
   "outputs": [
    {
     "output_type": "execute_result",
     "data": {
      "text/plain": [
       "array([ 0,  5, 10, 15])"
      ]
     },
     "metadata": {},
     "execution_count": 11
    }
   ],
   "source": [
    "my_matrix.diagonal()"
   ]
  },
  {
   "cell_type": "code",
   "execution_count": 5,
   "metadata": {},
   "outputs": [
    {
     "output_type": "execute_result",
     "data": {
      "text/plain": [
       "4"
      ]
     },
     "metadata": {},
     "execution_count": 5
    }
   ],
   "source": [
    "my_matrix.diagonal().size"
   ]
  },
  {
   "source": [
    "## Obtaining indexes for the triangles using *np.tril_indices*\n",
    "We applied \"k=-1\" to exclude the diagonal of the matrix in the triangle indices."
   ],
   "cell_type": "markdown",
   "metadata": {}
  },
  {
   "cell_type": "code",
   "execution_count": 12,
   "metadata": {},
   "outputs": [
    {
     "output_type": "execute_result",
     "data": {
      "text/plain": [
       "(array([1, 2, 2, 3, 3, 3]), array([0, 0, 1, 0, 1, 2]))"
      ]
     },
     "metadata": {},
     "execution_count": 12
    }
   ],
   "source": [
    "tril_my_matrix = np.tril_indices(my_matrix.diagonal().size, k=-1)\n",
    "tril_my_matrix"
   ]
  },
  {
   "source": [
    "## Using the indices in the matrix\n",
    "### Indices for the lower triangle"
   ],
   "cell_type": "markdown",
   "metadata": {}
  },
  {
   "cell_type": "code",
   "execution_count": 13,
   "metadata": {},
   "outputs": [
    {
     "output_type": "execute_result",
     "data": {
      "text/plain": [
       "array([ 4,  8,  9, 12, 13, 14])"
      ]
     },
     "metadata": {},
     "execution_count": 13
    }
   ],
   "source": [
    "my_matrix[tril_my_matrix[0], tril_my_matrix[1]]"
   ]
  },
  {
   "source": [
    "### Indices for the upper triangle"
   ],
   "cell_type": "markdown",
   "metadata": {}
  },
  {
   "cell_type": "code",
   "execution_count": 16,
   "metadata": {},
   "outputs": [
    {
     "output_type": "execute_result",
     "data": {
      "text/plain": [
       "array([ 1,  2,  6,  3,  7, 11])"
      ]
     },
     "metadata": {},
     "execution_count": 16
    }
   ],
   "source": [
    "my_matrix[tril_my_matrix[1], tril_my_matrix[0]]"
   ]
  },
  {
   "source": [
    "## Unpacking the triangles to create new matrices"
   ],
   "cell_type": "markdown",
   "metadata": {}
  },
  {
   "cell_type": "code",
   "execution_count": 18,
   "metadata": {},
   "outputs": [
    {
     "output_type": "execute_result",
     "data": {
      "text/plain": [
       "array([[0., 0., 0., 0.],\n",
       "       [0., 0., 0., 0.],\n",
       "       [0., 0., 0., 0.],\n",
       "       [0., 0., 0., 0.]])"
      ]
     },
     "metadata": {},
     "execution_count": 18
    }
   ],
   "source": [
    "zero_matrix = np.zeros((4, 4))\n",
    "zero_matrix"
   ]
  },
  {
   "cell_type": "code",
   "execution_count": 19,
   "metadata": {},
   "outputs": [
    {
     "output_type": "execute_result",
     "data": {
      "text/plain": [
       "array([[ 0.,  0.,  0.,  0.],\n",
       "       [ 4.,  0.,  0.,  0.],\n",
       "       [ 8.,  9.,  0.,  0.],\n",
       "       [12., 13., 14.,  0.]])"
      ]
     },
     "metadata": {},
     "execution_count": 19
    }
   ],
   "source": [
    "lower_triangle = zero_matrix.copy()\n",
    "lower_triangle[tril_my_matrix[0], tril_my_matrix[1]] = my_matrix[tril_my_matrix[0], tril_my_matrix[1]].copy()\n",
    "lower_triangle"
   ]
  },
  {
   "cell_type": "code",
   "execution_count": 21,
   "metadata": {},
   "outputs": [
    {
     "output_type": "execute_result",
     "data": {
      "text/plain": [
       "array([[ 0.,  1.,  2.,  3.],\n",
       "       [ 0.,  0.,  6.,  7.],\n",
       "       [ 0.,  0.,  0., 11.],\n",
       "       [ 0.,  0.,  0.,  0.]])"
      ]
     },
     "metadata": {},
     "execution_count": 21
    }
   ],
   "source": [
    "upper_triangle = zero_matrix.copy()\n",
    "upper_triangle[tril_my_matrix[1], tril_my_matrix[0]] = my_matrix[tril_my_matrix[1], tril_my_matrix[0]].copy()\n",
    "upper_triangle"
   ]
  },
  {
   "source": [
    "## Thank you! :D"
   ],
   "cell_type": "markdown",
   "metadata": {}
  },
  {
   "cell_type": "code",
   "execution_count": null,
   "metadata": {},
   "outputs": [],
   "source": []
  }
 ]
}